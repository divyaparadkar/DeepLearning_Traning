{
  "nbformat": 4,
  "nbformat_minor": 0,
  "metadata": {
    "colab": {
      "provenance": [],
      "authorship_tag": "ABX9TyNAxH1GqxCQopa5gQWR8cTQ",
      "include_colab_link": true
    },
    "kernelspec": {
      "name": "python3",
      "display_name": "Python 3"
    },
    "language_info": {
      "name": "python"
    }
  },
  "cells": [
    {
      "cell_type": "markdown",
      "metadata": {
        "id": "view-in-github",
        "colab_type": "text"
      },
      "source": [
        "<a href=\"https://colab.research.google.com/github/divyaparadkar/DeepLearning_Traning/blob/main/NLP_Workshop.ipynb\" target=\"_parent\"><img src=\"https://colab.research.google.com/assets/colab-badge.svg\" alt=\"Open In Colab\"/></a>"
      ]
    },
    {
      "cell_type": "code",
      "execution_count": null,
      "metadata": {
        "id": "6o0tmGZyNbHY"
      },
      "outputs": [],
      "source": [
        "str1=\" @I live in Bhopal. origenally i am from pandhurnar near by Nagpur, Geography, History, Maths, Scienc\""
      ]
    },
    {
      "cell_type": "code",
      "source": [
        "str1=str1.lower()"
      ],
      "metadata": {
        "id": "rJVuK4xONtaW"
      },
      "execution_count": null,
      "outputs": []
    },
    {
      "cell_type": "code",
      "source": [
        "print(str1)"
      ],
      "metadata": {
        "colab": {
          "base_uri": "https://localhost:8080/"
        },
        "id": "P0LFrD1NN8Wg",
        "outputId": "adc49504-fb18-4620-def1-f72149f70f9a"
      },
      "execution_count": null,
      "outputs": [
        {
          "output_type": "stream",
          "name": "stdout",
          "text": [
            " @i live in bhopal. origenally i am from pandhurnar near by nagpur\n"
          ]
        }
      ]
    },
    {
      "cell_type": "code",
      "source": [
        "import re"
      ],
      "metadata": {
        "id": "JN3bwf6JN_XZ"
      },
      "execution_count": null,
      "outputs": []
    },
    {
      "cell_type": "code",
      "source": [
        "str1=re.sub(r'[^a-zA-Z]',' ',str1)"
      ],
      "metadata": {
        "id": "KF6D8hHCOJDN"
      },
      "execution_count": null,
      "outputs": []
    },
    {
      "cell_type": "code",
      "source": [
        "print(str1)"
      ],
      "metadata": {
        "colab": {
          "base_uri": "https://localhost:8080/"
        },
        "id": "Yty8556LOSmX",
        "outputId": "826284ec-f5e8-4906-8031-592363c6e958"
      },
      "execution_count": null,
      "outputs": [
        {
          "output_type": "stream",
          "name": "stdout",
          "text": [
            " @I live in Bhopal. origenally i am from pandhurnar near by Nagpur, Geography, History, Maths, Scienc\n"
          ]
        }
      ]
    },
    {
      "cell_type": "code",
      "source": [
        "\n",
        "word=str1.split()"
      ],
      "metadata": {
        "id": "u3EgWSRsSGYR"
      },
      "execution_count": null,
      "outputs": []
    },
    {
      "cell_type": "code",
      "source": [
        "print(word)"
      ],
      "metadata": {
        "colab": {
          "base_uri": "https://localhost:8080/"
        },
        "id": "GDMbkd0_Tf_e",
        "outputId": "7c142abe-9273-4421-9960-cada44c83dd9"
      },
      "execution_count": null,
      "outputs": [
        {
          "output_type": "stream",
          "name": "stdout",
          "text": [
            "['@I', 'live', 'in', 'Bhopal.', 'origenally', 'i', 'am', 'from', 'pandhurnar', 'near', 'by', 'Nagpur,', 'Geography,', 'History,', 'Maths,', 'Scienc']\n"
          ]
        }
      ]
    },
    {
      "cell_type": "code",
      "source": [
        "\n",
        "word=list(set(word))"
      ],
      "metadata": {
        "id": "74Z5zssnTi4I"
      },
      "execution_count": null,
      "outputs": []
    },
    {
      "cell_type": "code",
      "source": [
        "\n",
        "word"
      ],
      "metadata": {
        "colab": {
          "base_uri": "https://localhost:8080/"
        },
        "id": "ONEPQvJeYCPY",
        "outputId": "02ef5518-6584-4e37-c10c-9d66614839ef"
      },
      "execution_count": null,
      "outputs": [
        {
          "output_type": "execute_result",
          "data": {
            "text/plain": [
              "['Geography,',\n",
              " 'Maths,',\n",
              " 'i',\n",
              " 'History,',\n",
              " 'Scienc',\n",
              " 'origenally',\n",
              " 'live',\n",
              " 'from',\n",
              " 'Bhopal.',\n",
              " 'in',\n",
              " 'near',\n",
              " '@I',\n",
              " 'Nagpur,',\n",
              " 'pandhurnar',\n",
              " 'am',\n",
              " 'by']"
            ]
          },
          "metadata": {},
          "execution_count": 50
        }
      ]
    },
    {
      "cell_type": "code",
      "source": [
        "!pip install nltk"
      ],
      "metadata": {
        "colab": {
          "base_uri": "https://localhost:8080/"
        },
        "id": "o9CyFNTLYES8",
        "outputId": "7215dfef-5b12-409d-8256-cf9e6409c12b"
      },
      "execution_count": null,
      "outputs": [
        {
          "output_type": "stream",
          "name": "stdout",
          "text": [
            "Requirement already satisfied: nltk in /usr/local/lib/python3.10/dist-packages (3.8.1)\n",
            "Requirement already satisfied: click in /usr/local/lib/python3.10/dist-packages (from nltk) (8.1.7)\n",
            "Requirement already satisfied: joblib in /usr/local/lib/python3.10/dist-packages (from nltk) (1.4.0)\n",
            "Requirement already satisfied: regex>=2021.8.3 in /usr/local/lib/python3.10/dist-packages (from nltk) (2023.12.25)\n",
            "Requirement already satisfied: tqdm in /usr/local/lib/python3.10/dist-packages (from nltk) (4.66.2)\n"
          ]
        }
      ]
    },
    {
      "cell_type": "code",
      "source": [
        "from nltk.corpus import stopwords\n",
        "import nltk"
      ],
      "metadata": {
        "id": "fZW3z3sFYaAU"
      },
      "execution_count": null,
      "outputs": []
    },
    {
      "cell_type": "code",
      "source": [
        "stop_words = set(stopwords.words('english'))"
      ],
      "metadata": {
        "id": "WEWVjLbHZ7p3"
      },
      "execution_count": null,
      "outputs": []
    },
    {
      "cell_type": "code",
      "source": [
        "stop_words = set(Por().stem('History'))"
      ],
      "metadata": {
        "colab": {
          "base_uri": "https://localhost:8080/",
          "height": 146
        },
        "id": "NfQ18Di-dHZA",
        "outputId": "054cf7ee-3325-4b4c-c88f-51d6cf9a4098"
      },
      "execution_count": null,
      "outputs": [
        {
          "output_type": "error",
          "ename": "AttributeError",
          "evalue": "'list' object has no attribute 'stem'",
          "traceback": [
            "\u001b[0;31m---------------------------------------------------------------------------\u001b[0m",
            "\u001b[0;31mAttributeError\u001b[0m                            Traceback (most recent call last)",
            "\u001b[0;32m<ipython-input-54-d30156ebc240>\u001b[0m in \u001b[0;36m<cell line: 1>\u001b[0;34m()\u001b[0m\n\u001b[0;32m----> 1\u001b[0;31m \u001b[0mstop_words\u001b[0m \u001b[0;34m=\u001b[0m \u001b[0mset\u001b[0m\u001b[0;34m(\u001b[0m\u001b[0mstopwords\u001b[0m\u001b[0;34m.\u001b[0m\u001b[0mwords\u001b[0m\u001b[0;34m(\u001b[0m\u001b[0;34m)\u001b[0m\u001b[0;34m.\u001b[0m\u001b[0mstem\u001b[0m\u001b[0;34m(\u001b[0m\u001b[0;34m'History'\u001b[0m\u001b[0;34m)\u001b[0m\u001b[0;34m)\u001b[0m\u001b[0;34m\u001b[0m\u001b[0;34m\u001b[0m\u001b[0m\n\u001b[0m",
            "\u001b[0;31mAttributeError\u001b[0m: 'list' object has no attribute 'stem'"
          ]
        }
      ]
    },
    {
      "cell_type": "code",
      "source": [
        "from nltk.stem import *\n",
        "from nltk.stem.porter import *\n"
      ],
      "metadata": {
        "id": "rU79nFF1d7WE"
      },
      "execution_count": null,
      "outputs": []
    },
    {
      "cell_type": "code",
      "source": [
        "corpus=[]\n",
        "for i in word:\n",
        "  if i not in stopwords.words('english'):\n",
        "    PorterStemmer().stem(i)\n",
        "    corpus.append(i)\n"
      ],
      "metadata": {
        "id": "IOJovpzmb2zZ"
      },
      "execution_count": null,
      "outputs": []
    },
    {
      "cell_type": "code",
      "source": [
        "corpus"
      ],
      "metadata": {
        "colab": {
          "base_uri": "https://localhost:8080/"
        },
        "id": "Ab7H7BNBeX61",
        "outputId": "01063855-f382-40b6-f92d-84d104a2fa2e"
      },
      "execution_count": null,
      "outputs": [
        {
          "output_type": "execute_result",
          "data": {
            "text/plain": [
              "['Geography,',\n",
              " 'Maths,',\n",
              " 'History,',\n",
              " 'Scienc',\n",
              " 'origenally',\n",
              " 'live',\n",
              " 'Bhopal.',\n",
              " 'near',\n",
              " '@I',\n",
              " 'Nagpur,',\n",
              " 'pandhurnar']"
            ]
          },
          "metadata": {},
          "execution_count": 57
        }
      ]
    },
    {
      "cell_type": "code",
      "source": [],
      "metadata": {
        "id": "nYZEgd2FeahQ"
      },
      "execution_count": null,
      "outputs": []
    }
  ]
}