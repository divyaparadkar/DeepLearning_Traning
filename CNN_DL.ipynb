{
  "nbformat": 4,
  "nbformat_minor": 0,
  "metadata": {
    "colab": {
      "provenance": [],
      "authorship_tag": "ABX9TyN5AHclbpqNOvFFj8Fv+rme",
      "include_colab_link": true
    },
    "kernelspec": {
      "name": "python3",
      "display_name": "Python 3"
    },
    "language_info": {
      "name": "python"
    }
  },
  "cells": [
    {
      "cell_type": "markdown",
      "metadata": {
        "id": "view-in-github",
        "colab_type": "text"
      },
      "source": [
        "<a href=\"https://colab.research.google.com/github/divyaparadkar/DeepLearning_Traning/blob/main/CNN_DL.ipynb\" target=\"_parent\"><img src=\"https://colab.research.google.com/assets/colab-badge.svg\" alt=\"Open In Colab\"/></a>"
      ]
    },
    {
      "cell_type": "code",
      "execution_count": 1,
      "metadata": {
        "id": "d1bj-eZ5vG31"
      },
      "outputs": [],
      "source": [
        "import tensorflow as tf\n",
        "from tensorflow import keras\n",
        "import numpy as np\n",
        "import pandas as pd\n",
        "import matplotlib.pyplot as plt\n",
        "from google.colab.patches import cv2_imshow\n",
        "import seaborn as sns\n",
        "import math\n",
        "import cv2\n",
        "from sklearn.metrics import classification_report\n",
        "\n",
        "\n"
      ]
    },
    {
      "cell_type": "code",
      "source": [
        "data=keras.datasets.cifar10.load_data()"
      ],
      "metadata": {
        "id": "pOOi_TKtzkAy",
        "colab": {
          "base_uri": "https://localhost:8080/"
        },
        "outputId": "831d01d3-93a6-45d5-97af-7ab912345be0"
      },
      "execution_count": 2,
      "outputs": [
        {
          "output_type": "stream",
          "name": "stdout",
          "text": [
            "Downloading data from https://www.cs.toronto.edu/~kriz/cifar-10-python.tar.gz\n",
            "170498071/170498071 [==============================] - 2s 0us/step\n"
          ]
        }
      ]
    },
    {
      "cell_type": "code",
      "source": [
        "type(data[1][1])"
      ],
      "metadata": {
        "colab": {
          "base_uri": "https://localhost:8080/"
        },
        "id": "g9efkoRcz71y",
        "outputId": "86cc7610-257e-46f0-c1f1-35ff13db82e6"
      },
      "execution_count": 3,
      "outputs": [
        {
          "output_type": "execute_result",
          "data": {
            "text/plain": [
              "numpy.ndarray"
            ]
          },
          "metadata": {},
          "execution_count": 3
        }
      ]
    },
    {
      "cell_type": "code",
      "source": [
        "(X_train, y_train),(X_test, y_test)=data"
      ],
      "metadata": {
        "id": "KekhGnWOzOaC"
      },
      "execution_count": 4,
      "outputs": []
    },
    {
      "cell_type": "code",
      "source": [
        "X_train.shape, y_train.shape, X_test.shape,y_test.shape"
      ],
      "metadata": {
        "colab": {
          "base_uri": "https://localhost:8080/"
        },
        "id": "qDaK2B0X0Lc2",
        "outputId": "f092ab6b-9c9e-46dd-f16c-6cd77ab7825a"
      },
      "execution_count": 5,
      "outputs": [
        {
          "output_type": "execute_result",
          "data": {
            "text/plain": [
              "((50000, 32, 32, 3), (50000, 1), (10000, 32, 32, 3), (10000, 1))"
            ]
          },
          "metadata": {},
          "execution_count": 5
        }
      ]
    },
    {
      "cell_type": "code",
      "source": [
        "y_train[:5]"
      ],
      "metadata": {
        "colab": {
          "base_uri": "https://localhost:8080/"
        },
        "id": "uubhQpH82VpP",
        "outputId": "c7dff994-43a0-421e-ec41-fb63077c7371"
      },
      "execution_count": 6,
      "outputs": [
        {
          "output_type": "execute_result",
          "data": {
            "text/plain": [
              "array([[6],\n",
              "       [9],\n",
              "       [9],\n",
              "       [4],\n",
              "       [1]], dtype=uint8)"
            ]
          },
          "metadata": {},
          "execution_count": 6
        }
      ]
    },
    {
      "cell_type": "code",
      "source": [
        "y_train=y_train.reshape(-1,)\n",
        "y_test=y_test.reshape(-1,)"
      ],
      "metadata": {
        "id": "q3-wnrxD2dCQ"
      },
      "execution_count": 7,
      "outputs": []
    },
    {
      "cell_type": "code",
      "source": [
        "y_train.shape, y_test.shape"
      ],
      "metadata": {
        "colab": {
          "base_uri": "https://localhost:8080/"
        },
        "id": "meDYB_ua2ly0",
        "outputId": "c2f12edd-bf96-4469-d3d9-61ef80b51e3c"
      },
      "execution_count": 8,
      "outputs": [
        {
          "output_type": "execute_result",
          "data": {
            "text/plain": [
              "((50000,), (10000,))"
            ]
          },
          "metadata": {},
          "execution_count": 8
        }
      ]
    },
    {
      "cell_type": "code",
      "source": [
        "cv2_imshow(cv2.resize(X_train[1],(150,150)))"
      ],
      "metadata": {
        "colab": {
          "base_uri": "https://localhost:8080/",
          "height": 167
        },
        "id": "LV1SnCTw0W8t",
        "outputId": "4023b180-fc89-433f-f57f-b9ddb1472515"
      },
      "execution_count": 9,
      "outputs": [
        {
          "output_type": "display_data",
          "data": {
            "text/plain": [
              "<PIL.Image.Image image mode=RGB size=150x150>"
            ],
            "image/png": "[encoded data removed]"
          },
          "metadata": {}
        }
      ]
    },
    {
      "cell_type": "code",
      "source": [
        "plt.imshow(X_train[1])"
      ],
      "metadata": {
        "colab": {
          "base_uri": "https://localhost:8080/",
          "height": 447
        },
        "id": "PxlKsbz00c_v",
        "outputId": "d5773389-4d39-4c76-9fa2-cdb9ad067f64"
      },
      "execution_count": 10,
      "outputs": [
        {
          "output_type": "execute_result",
          "data": {
            "text/plain": [
              "<matplotlib.image.AxesImage at 0x7c8ce6e86c80>"
            ]
          },
          "metadata": {},
          "execution_count": 10
        },
        {
          "output_type": "display_data",
          "data": {
            "text/plain": [
              "<Figure size 640x480 with 1 Axes>"
            ],
            "image/png": "[encoded data removed]"
          },
          "metadata": {}
        }
      ]
    },
    {
      "cell_type": "code",
      "source": [
        "\n",
        "def display_image(X,y,index):\n",
        "  plt.figure(figsize=(3,3))\n",
        "  plt.imshow(X[index])\n",
        "  plt.xlabel(classes[y[index]])"
      ],
      "metadata": {
        "id": "jkov68px0smt"
      },
      "execution_count": 11,
      "outputs": []
    },
    {
      "cell_type": "code",
      "source": [
        "\n",
        "\n",
        "import matplotlib.pyplot as plt\n",
        "classes = ['airplane', 'automobile', 'bird', 'cat', 'deer', 'dog', 'frog', 'horse', 'ship', 'truck']\n",
        "\n",
        "#def display_image(X,y,index):\n",
        " # plt.figure(figsize=(3,3))\n",
        "  #plt.imshow(X[index])\n",
        "  #plt.xlabel(classes[y[index]])\n"
      ],
      "metadata": {
        "id": "pLSF3HBk3RuT"
      },
      "execution_count": 12,
      "outputs": []
    },
    {
      "cell_type": "code",
      "source": [
        "display_image(X_train,y_train,1)"
      ],
      "metadata": {
        "colab": {
          "base_uri": "https://localhost:8080/",
          "height": 313
        },
        "id": "vjZsWkTC1neK",
        "outputId": "98c216ba-dd0b-44ea-d593-9a9a7a2522c1"
      },
      "execution_count": 13,
      "outputs": [
        {
          "output_type": "display_data",
          "data": {
            "text/plain": [
              "<Figure size 300x300 with 1 Axes>"
            ],
            "image/png": "[encoded data removed]"
          },
          "metadata": {}
        }
      ]
    },
    {
      "cell_type": "code",
      "source": [
        "X_train=X_train/255\n",
        "X_test=X_test/255"
      ],
      "metadata": {
        "id": "m2JRqn151012"
      },
      "execution_count": 14,
      "outputs": []
    },
    {
      "cell_type": "code",
      "source": [
        "#X_train[0]"
      ],
      "metadata": {
        "id": "xdxOo_hJ4sp0"
      },
      "execution_count": 15,
      "outputs": []
    },
    {
      "cell_type": "code",
      "source": [
        "ann_model=keras.Sequential([\n",
        "    keras.layers.Flatten(input_shape=(32,32,3)),\n",
        "    keras.layers.Dense(10,input_shape=(28*28,),activation=\"relu\"),\n",
        "    keras.layers.Dense(10,input_shape=(30*30,),activation=\"sigmoid\"),\n",
        "    keras.layers.Dense(10,input_shape=(30*30,),activation=\"softmax\")\n",
        "     ])\n",
        "ann_model.compile(optimizer=\"adam\",\n",
        "              loss=\"sparse_categorical_crossentropy\",\n",
        "              metrics=[\"accuracy\"])\n",
        "ann_model.fit(X_train,y_train, epochs=10)\n"
      ],
      "metadata": {
        "colab": {
          "base_uri": "https://localhost:8080/"
        },
        "id": "lw4qp8em5IsF",
        "outputId": "5a556eef-374b-4da0-cf00-2dad771e3b06"
      },
      "execution_count": 16,
      "outputs": [
        {
          "output_type": "stream",
          "name": "stdout",
          "text": [
            "Epoch 1/10\n",
            "1563/1563 [==============================] - 16s 9ms/step - loss: 2.1100 - accuracy: 0.2045\n",
            "Epoch 2/10\n",
            "1563/1563 [==============================] - 12s 8ms/step - loss: 1.9718 - accuracy: 0.2607\n",
            "Epoch 3/10\n",
            "1563/1563 [==============================] - 11s 7ms/step - loss: 1.9395 - accuracy: 0.2641\n",
            "Epoch 4/10\n",
            "1563/1563 [==============================] - 10s 6ms/step - loss: 1.9269 - accuracy: 0.2660\n",
            "Epoch 5/10\n",
            "1563/1563 [==============================] - 8s 5ms/step - loss: 1.9191 - accuracy: 0.2675\n",
            "Epoch 6/10\n",
            "1563/1563 [==============================] - 9s 5ms/step - loss: 1.9151 - accuracy: 0.2694\n",
            "Epoch 7/10\n",
            "1563/1563 [==============================] - 7s 5ms/step - loss: 1.9103 - accuracy: 0.2698\n",
            "Epoch 8/10\n",
            "1563/1563 [==============================] - 7s 5ms/step - loss: 1.9073 - accuracy: 0.2727\n",
            "Epoch 9/10\n",
            "1563/1563 [==============================] - 8s 5ms/step - loss: 1.9046 - accuracy: 0.2761\n",
            "Epoch 10/10\n",
            "1563/1563 [==============================] - 7s 5ms/step - loss: 1.9024 - accuracy: 0.2765\n"
          ]
        },
        {
          "output_type": "execute_result",
          "data": {
            "text/plain": [
              "<keras.src.callbacks.History at 0x7c8cdbb2f1f0>"
            ]
          },
          "metadata": {},
          "execution_count": 16
        }
      ]
    },
    {
      "cell_type": "code",
      "source": [
        "ann_model=keras.Sequential([\n",
        "    keras.layers.Flatten(input_shape=(32,32,3)),\n",
        "    keras.layers.Dense(1000,activation=\"relu\"),\n",
        "    keras.layers.Dense(100,activation=\"sigmoid\"),\n",
        "    keras.layers.Dense(10,activation=\"softmax\")\n",
        "     ])\n",
        "ann_model.compile(optimizer=\"adam\",\n",
        "              loss=\"sparse_categorical_crossentropy\",\n",
        "              metrics=[\"accuracy\"])\n",
        "ann_model.fit(X_test,y_test, epochs=10)\n"
      ],
      "metadata": {
        "id": "OhAsETQX8ZNh",
        "colab": {
          "base_uri": "https://localhost:8080/"
        },
        "outputId": "e23bfb7e-284f-4399-dc39-f6b5de957194"
      },
      "execution_count": 17,
      "outputs": [
        {
          "output_type": "stream",
          "name": "stdout",
          "text": [
            "Epoch 1/10\n",
            "313/313 [==============================] - 23s 69ms/step - loss: 2.2535 - accuracy: 0.1477\n",
            "Epoch 2/10\n",
            "313/313 [==============================] - 25s 79ms/step - loss: 2.0921 - accuracy: 0.2065\n",
            "Epoch 3/10\n",
            "313/313 [==============================] - 18s 57ms/step - loss: 1.9680 - accuracy: 0.2781\n",
            "Epoch 4/10\n",
            "313/313 [==============================] - 15s 47ms/step - loss: 1.8597 - accuracy: 0.3285\n",
            "Epoch 5/10\n",
            "313/313 [==============================] - 23s 73ms/step - loss: 1.7848 - accuracy: 0.3611\n",
            "Epoch 6/10\n",
            "313/313 [==============================] - 21s 66ms/step - loss: 1.7177 - accuracy: 0.3826\n",
            "Epoch 7/10\n",
            "313/313 [==============================] - 19s 61ms/step - loss: 1.6636 - accuracy: 0.4022\n",
            "Epoch 8/10\n",
            "313/313 [==============================] - 15s 47ms/step - loss: 1.6018 - accuracy: 0.4280\n",
            "Epoch 9/10\n",
            "313/313 [==============================] - 16s 50ms/step - loss: 1.5612 - accuracy: 0.4428\n",
            "Epoch 10/10\n",
            "313/313 [==============================] - 15s 47ms/step - loss: 1.5352 - accuracy: 0.4543\n"
          ]
        },
        {
          "output_type": "execute_result",
          "data": {
            "text/plain": [
              "<keras.src.callbacks.History at 0x7c8c7121ee30>"
            ]
          },
          "metadata": {},
          "execution_count": 17
        }
      ]
    },
    {
      "cell_type": "code",
      "source": [
        "\n",
        "\n",
        "import numpy as np\n",
        "from sklearn.metrics import classification_report\n",
        "\n",
        "y_pred=ann_model.predict(X_test)\n",
        "print(y_pred.shape)\n",
        "y_pred_classes=[np.argmax(i) for i in y_pred]\n",
        "print(y_pred_classes[0])\n",
        "print(classification_report(y_test,y_pred_classes))\n"
      ],
      "metadata": {
        "colab": {
          "base_uri": "https://localhost:8080/"
        },
        "id": "lOyit5z7_XnU",
        "outputId": "8e0fd773-7d51-4402-a0a0-7b66d0af432a"
      },
      "execution_count": 18,
      "outputs": [
        {
          "output_type": "stream",
          "name": "stdout",
          "text": [
            "313/313 [==============================] - 3s 9ms/step\n",
            "(10000, 10)\n",
            "3\n",
            "              precision    recall  f1-score   support\n",
            "\n",
            "           0       0.51      0.55      0.53      1000\n",
            "           1       0.63      0.52      0.57      1000\n",
            "           2       0.35      0.29      0.32      1000\n",
            "           3       0.37      0.31      0.34      1000\n",
            "           4       0.45      0.37      0.41      1000\n",
            "           5       0.48      0.32      0.39      1000\n",
            "           6       0.36      0.73      0.48      1000\n",
            "           7       0.52      0.50      0.51      1000\n",
            "           8       0.61      0.56      0.58      1000\n",
            "           9       0.55      0.56      0.55      1000\n",
            "\n",
            "    accuracy                           0.47     10000\n",
            "   macro avg       0.48      0.47      0.47     10000\n",
            "weighted avg       0.48      0.47      0.47     10000\n",
            "\n"
          ]
        }
      ]
    },
    {
      "cell_type": "code",
      "source": [
        "\n",
        "#"
      ],
      "metadata": {
        "id": "RbNiNddlBCqx"
      },
      "execution_count": 19,
      "outputs": []
    },
    {
      "cell_type": "code",
      "source": [
        "# prompt: correct the error  cnn_model=keras.Sequential([     keras.layers.Conv2D(filters=32,kernel_size(3,3),activation=\"relu\",input_shape=(32,32,3)),     keras.layer.MaxPooling2D((2,2)),          keras.layers.Conv2D(filters=32,kernel_size(3,3),activation=\"relu\",input_shape=(32,32,3)),     keras.layer.MaxPooling2D((2,2)),      keras.layers.Flatten(input_shape=(32,32,3)),     keras.layers.Dense(1000,activat\n",
        "\n",
        "cnn_model=keras.Sequential([\n",
        "    #cnn\n",
        "    keras.layers.Conv2D(filters=32,kernel_size=(3,3),activation=\"relu\"),\n",
        "    keras.layers.MaxPooling2D((2,2)),\n",
        "\n",
        "    keras.layers.Conv2D(filters=32,kernel_size=(3,3),activation=\"relu\",input_shape=(32,32,3),strides=(2,2)),\n",
        "    keras.layers.MaxPooling2D((2,2)),\n",
        "\n",
        "    #Ann\n",
        "    keras.layers.Flatten(),\n",
        "    keras.layers.Dense(100,activation=\"relu\"),\n",
        "    keras.layers.Dense(10,activation=\"softmax\")\n",
        "     ])\n",
        "cnn_model.compile(optimizer=\"adam\",\n",
        "              loss=\"sparse_categorical_crossentropy\",\n",
        "              metrics=[\"accuracy\"])\n",
        "cnn_model.fit(X_test,y_test, epochs=10)\n"
      ],
      "metadata": {
        "colab": {
          "base_uri": "https://localhost:8080/"
        },
        "id": "K4Vd-3t2GVwj",
        "outputId": "feecb35a-79c4-48e8-9312-a314f80657e7"
      },
      "execution_count": 20,
      "outputs": [
        {
          "output_type": "stream",
          "name": "stdout",
          "text": [
            "Epoch 1/10\n",
            "313/313 [==============================] - 10s 29ms/step - loss: 1.8716 - accuracy: 0.3124\n",
            "Epoch 2/10\n",
            "313/313 [==============================] - 10s 31ms/step - loss: 1.4970 - accuracy: 0.4607\n",
            "Epoch 3/10\n",
            "313/313 [==============================] - 10s 33ms/step - loss: 1.3515 - accuracy: 0.5216\n",
            "Epoch 4/10\n",
            "313/313 [==============================] - 10s 31ms/step - loss: 1.2534 - accuracy: 0.5537\n",
            "Epoch 5/10\n",
            "313/313 [==============================] - 9s 28ms/step - loss: 1.1753 - accuracy: 0.5843\n",
            "Epoch 6/10\n",
            "313/313 [==============================] - 10s 31ms/step - loss: 1.0796 - accuracy: 0.6164\n",
            "Epoch 7/10\n",
            "313/313 [==============================] - 10s 31ms/step - loss: 1.0107 - accuracy: 0.6394\n",
            "Epoch 8/10\n",
            "313/313 [==============================] - 10s 31ms/step - loss: 0.9249 - accuracy: 0.6701\n",
            "Epoch 9/10\n",
            "313/313 [==============================] - 15s 50ms/step - loss: 0.8707 - accuracy: 0.6953\n",
            "Epoch 10/10\n",
            "313/313 [==============================] - 19s 60ms/step - loss: 0.8204 - accuracy: 0.7153\n"
          ]
        },
        {
          "output_type": "execute_result",
          "data": {
            "text/plain": [
              "<keras.src.callbacks.History at 0x7c8c812d4c40>"
            ]
          },
          "metadata": {},
          "execution_count": 20
        }
      ]
    },
    {
      "cell_type": "code",
      "source": [
        "cnn_model.summary()"
      ],
      "metadata": {
        "id": "nZpsZ9zLHBuH",
        "colab": {
          "base_uri": "https://localhost:8080/"
        },
        "outputId": "5ea988db-b34b-4d18-8072-28cfa153b9aa"
      },
      "execution_count": 24,
      "outputs": [
        {
          "output_type": "stream",
          "name": "stdout",
          "text": [
            "Model: \"sequential_2\"\n",
            "_________________________________________________________________\n",
            " Layer (type)                Output Shape              Param #   \n",
            "=================================================================\n",
            " conv2d (Conv2D)             (None, 30, 30, 32)        896       \n",
            "                                                                 \n",
            " max_pooling2d (MaxPooling2  (None, 15, 15, 32)        0         \n",
            " D)                                                              \n",
            "                                                                 \n",
            " conv2d_1 (Conv2D)           (None, 13, 13, 32)        9248      \n",
            "                                                                 \n",
            " max_pooling2d_1 (MaxPoolin  (None, 6, 6, 32)          0         \n",
            " g2D)                                                            \n",
            "                                                                 \n",
            " flatten_2 (Flatten)         (None, 1152)              0         \n",
            "                                                                 \n",
            " dense_6 (Dense)             (None, 100)               115300    \n",
            "                                                                 \n",
            " dense_7 (Dense)             (None, 10)                1010      \n",
            "                                                                 \n",
            "=================================================================\n",
            "Total params: 126454 (493.96 KB)\n",
            "Trainable params: 126454 (493.96 KB)\n",
            "Non-trainable params: 0 (0.00 Byte)\n",
            "_________________________________________________________________\n"
          ]
        }
      ]
    },
    {
      "cell_type": "code",
      "source": [],
      "metadata": {
        "id": "MBbbOdgbsURk"
      },
      "execution_count": null,
      "outputs": []
    }
  ]
}